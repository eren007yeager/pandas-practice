{
 "cells": [
  {
   "cell_type": "markdown",
   "id": "867f6823-93ae-4ea6-829f-90f51753a772",
   "metadata": {},
   "source": [
    "# dataframe"
   ]
  },
  {
   "cell_type": "code",
   "execution_count": 2,
   "id": "a00b811d-a632-4baf-8ebe-defada47e6ff",
   "metadata": {},
   "outputs": [
    {
     "name": "stdout",
     "output_type": "stream",
     "text": [
      "<class 'pandas.core.frame.DataFrame'>\n"
     ]
    }
   ],
   "source": [
    "import pandas as pd\n",
    "\n",
    "1=[1,2,3,6,5,4]\n",
    "\n",
    "var = pd.DataFrame(a)\n",
    "print(type(var))\n"
   ]
  },
  {
   "cell_type": "code",
   "execution_count": 5,
   "id": "b213c768-3338-45a5-99ce-39421828f09c",
   "metadata": {},
   "outputs": [
    {
     "name": "stdout",
     "output_type": "stream",
     "text": [
      "<class 'pandas.core.frame.DataFrame'>\n",
      "   m  b  d  1\n",
      "0  1  2  1  1\n",
      "1  3  3  2  2\n",
      "2  5  9  3  3\n",
      "3  4  7  5  4\n",
      "4  9  6  6  9\n",
      "0    1\n",
      "1    3\n",
      "2    5\n",
      "3    4\n",
      "4    9\n",
      "Name: m, dtype: int64 [3]\n"
     ]
    }
   ],
   "source": [
    "d={\"m\":[1,3,5,4,9],\"b\":[2,3,9,7,6,],\"d\":[1,2,3,5,6],\"1\":[1,2,3,4,9]}\n",
    "var1=pd.DataFrame(d)\n",
    "print(type(var1))\n",
    "print(var1)\n",
    "print(var1[\"m\"],[3])"
   ]
  },
  {
   "cell_type": "code",
   "execution_count": 6,
   "id": "92756217-63e4-41cb-bd3c-6dd8f323db25",
   "metadata": {},
   "outputs": [
    {
     "name": "stdout",
     "output_type": "stream",
     "text": [
      "<class 'pandas.core.frame.DataFrame'>\n",
      "   0  1  2  3  4\n",
      "0  1  2  3  5  4\n",
      "1  1  2  3  6  5\n"
     ]
    }
   ],
   "source": [
    "list1 = [[1, 2, 3, 5, 4], [1, 2, 3, 6, 5]]\n",
    "var2 = pd.DataFrame(list1)\n",
    "print(type(var2))\n",
    "print(var2)\n",
    "\n"
   ]
  },
  {
   "cell_type": "code",
   "execution_count": 7,
   "id": "beda5e20-b368-4267-8dd0-86ab75e72f2f",
   "metadata": {},
   "outputs": [
    {
     "name": "stdout",
     "output_type": "stream",
     "text": [
      "<class 'pandas.core.frame.DataFrame'>\n",
      "     s  r\n",
      "0  1.0  3\n",
      "1  2.0  5\n",
      "2  3.0  7\n",
      "3  4.0  6\n",
      "4  NaN  5\n"
     ]
    }
   ],
   "source": [
    "sr={\"s\":pd.Series([1,2,3,4]),\"r\":pd.Series([3,5,7,6,5])}\n",
    "var3=pd.DataFrame(sr)\n",
    "print(type(var3))\n",
    "print(var3)\n"
   ]
  },
  {
   "cell_type": "markdown",
   "id": "731bab15-614c-4478-aff6-cee7eb01a091",
   "metadata": {},
   "source": [
    "arthmatic operations"
   ]
  }
 ],
 "metadata": {
  "kernelspec": {
   "display_name": "Python 3 (ipykernel)",
   "language": "python",
   "name": "python3"
  },
  "language_info": {
   "codemirror_mode": {
    "name": "ipython",
    "version": 3
   },
   "file_extension": ".py",
   "mimetype": "text/x-python",
   "name": "python",
   "nbconvert_exporter": "python",
   "pygments_lexer": "ipython3",
   "version": "3.12.7"
  }
 },
 "nbformat": 4,
 "nbformat_minor": 5
}
